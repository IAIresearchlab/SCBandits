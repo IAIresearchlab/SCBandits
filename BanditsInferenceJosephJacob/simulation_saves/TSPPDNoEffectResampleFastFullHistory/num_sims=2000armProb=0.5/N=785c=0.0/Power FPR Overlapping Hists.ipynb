{
 "cells": [
  {
   "cell_type": "code",
   "execution_count": 8,
   "metadata": {},
   "outputs": [
    {
     "name": "stdout",
     "output_type": "stream",
     "text": [
      "/home/jacobnogas/Sofia_Villar_Fall_2019/RL4RLRevisions/simulation_analysis_scripts\n"
     ]
    }
   ],
   "source": [
    "cd /home/jacobnogas/Sofia_Villar_Fall_2019/RL4RLRevisions/simulation_analysis_scripts/"
   ]
  },
  {
   "cell_type": "code",
   "execution_count": 10,
   "metadata": {},
   "outputs": [
    {
     "ename": "ModuleNotFoundError",
     "evalue": "No module named 'beta_bernoulli'",
     "output_type": "error",
     "traceback": [
      "\u001b[0;31m---------------------------------------------------------------------------\u001b[0m",
      "\u001b[0;31mModuleNotFoundError\u001b[0m                       Traceback (most recent call last)",
      "\u001b[0;32m<ipython-input-10-07300223272e>\u001b[0m in \u001b[0;36m<module>\u001b[0;34m\u001b[0m\n\u001b[1;32m     22\u001b[0m \u001b[0;31m#from output_format import H_ALGO_ESTIMATED_MU, H_ALGO_ESTIMATED_V, H_ALGO_ESTIMATED_ALPHA, H_ALGO_ESTIMATED_BETA\u001b[0m\u001b[0;34m\u001b[0m\u001b[0;34m\u001b[0m\u001b[0;34m\u001b[0m\u001b[0m\n\u001b[1;32m     23\u001b[0m \u001b[0;31m#from output_format import H_ALGO_PROB_BEST_ACTION, H_ALGO_NUM_TRIALS\u001b[0m\u001b[0;34m\u001b[0m\u001b[0;34m\u001b[0m\u001b[0;34m\u001b[0m\u001b[0m\n\u001b[0;32m---> 24\u001b[0;31m \u001b[0;32mimport\u001b[0m \u001b[0mbeta_bernoulli\u001b[0m\u001b[0;34m\u001b[0m\u001b[0;34m\u001b[0m\u001b[0m\n\u001b[0m\u001b[1;32m     25\u001b[0m \u001b[0;31m#import thompson_policy\u001b[0m\u001b[0;34m\u001b[0m\u001b[0;34m\u001b[0m\u001b[0;34m\u001b[0m\u001b[0m\n\u001b[1;32m     26\u001b[0m \u001b[0;32mfrom\u001b[0m \u001b[0mpathlib\u001b[0m \u001b[0;32mimport\u001b[0m \u001b[0mPath\u001b[0m\u001b[0;34m\u001b[0m\u001b[0;34m\u001b[0m\u001b[0m\n",
      "\u001b[0;31mModuleNotFoundError\u001b[0m: No module named 'beta_bernoulli'"
     ]
    }
   ],
   "source": [
    "import matplotlib\n",
    "matplotlib.use('Agg')\n",
    "import pickle\n",
    "import os\n",
    "import statsmodels.stats.power as smp\n",
    "from rectify_vars_and_wald_functions import *\n",
    "import pandas as pd \n",
    "import matplotlib.pyplot as plt \n",
    "import sys\n",
    "sys.path.insert(1, \"/home/jacobnogas/Sofia_Villar_Fall_2019/RL4RLRevisions/simulation_analysis_scripts/\")\n",
    "sys.path.insert(1, '../../louie_experiments/')\n",
    "# print(data)\n",
    "import numpy as np\n",
    "import ipdb\n",
    "import os\n",
    "from scipy import stats\n",
    "from matplotlib.pyplot import figure\n",
    "import glob\n",
    "import numpy as np\n",
    "import read_config\n",
    "#from output_format import H_ALGO_ACTION_FAILURE, H_ALGO_ACTION_SUCCESS, H_ALGO_ACTION, H_ALGO_OBSERVED_REWARD\n",
    "#from output_format import H_ALGO_ESTIMATED_MU, H_ALGO_ESTIMATED_V, H_ALGO_ESTIMATED_ALPHA, H_ALGO_ESTIMATED_BETA\n",
    "#from output_format import H_ALGO_PROB_BEST_ACTION, H_ALGO_NUM_TRIALS\n",
    "import beta_bernoulli\n",
    "#import thompson_policy\n",
    "from pathlib import Path"
   ]
  },
  {
   "cell_type": "code",
   "execution_count": null,
   "metadata": {},
   "outputs": [],
   "source": [
    "def KDE_wald(df = None, to_check_eg0pt1 = None, to_check_eg0pt3 = None, to_check_unif = None, to_check_ipw = None, n = None, num_sims = None, load_df = True, \\\n",
    "                     title = None,\\\n",
    "                     to_check_ts = None):\n",
    "    '''\n",
    "    Not using bias\n",
    "    '''\n",
    "#    ipdb.set_trace()                                      \n",
    "    if load_df == True:\n",
    "        with open(to_check_eg0pt1, 'rb') as f:\n",
    "            df_eg0pt1 = pickle.load(f)\n",
    "        with open(to_check_eg0pt3, 'rb') as f:\n",
    "            df_eg0pt3 = pickle.load(f)\n",
    "\n",
    "        with open(to_check_unif, 'rb') as f:\n",
    "            df_unif = pickle.load(f)\n",
    "        if to_check_ipw != None:\n",
    "            ipw_t1_list =  np.load(to_check_ipw)\n",
    "        if to_check_ts != None:\n",
    "            with open(to_check_ts, 'rb') as t:\n",
    "                df_ts = pickle.load(t)\n",
    "   # SE = np.sqrt(mean_1*(1 - mean_1)/sample_size_1 + mean_2*(1 - mean_2)/sample_size_2)\n",
    "      \n",
    "\n",
    "    #print(data)\n",
    "    fig, ax = plt.subplots(2,2)       \n",
    "    fig, ax = plt.subplots()       \n",
    "    fig.set_size_inches(14.5, 10.5)\n",
    "#    ax = ax.ravel()\n",
    "    i = 0                               \n",
    "    \n",
    "    step_sizes = df_unif['num_steps'].unique()\n",
    "    size_vars = [\"n/2\", \"n\", \"2*n\", \"4*n\"]\n",
    "    step_sizes = [785]\n",
    "\n",
    "    for num_steps in step_sizes:\n",
    "   \n",
    "        \n",
    "        df_for_num_steps_eg0pt1 = df_eg0pt1[df_eg0pt1['num_steps'] == num_steps]\n",
    "        df_for_num_steps_eg0pt3 = df_eg0pt3[df_eg0pt3['num_steps'] == num_steps]\n",
    "        df_for_num_steps_unif = df_unif[df_unif['num_steps'] == num_steps]\n",
    "        df_for_num_steps_ts = df_ts[df_ts['num_steps'] == num_steps]\n",
    "        df_for_num_steps_ts = df_for_num_steps_ts[0:5000]\n",
    "\n",
    "       # bins = np.arange(0, 1.01, .025)\n",
    "\n",
    "\n",
    "        num_replications = len(df_for_num_steps_eg0pt1)\n",
    "\n",
    "        df_for_num_steps_diff_eg0pt1 = df_for_num_steps_eg0pt1[\"wald_type_stat\"].dropna()\n",
    "        df_for_num_steps_diff_eg0pt3 = df_for_num_steps_eg0pt3[\"wald_type_stat\"].dropna()\n",
    "\n",
    "\n",
    "        df_for_num_steps_diff_unif = df_for_num_steps_unif[\"wald_type_stat\"].dropna()\n",
    "        df_for_num_steps_diff_ts = df_for_num_steps_ts[\"wald_type_stat\"].dropna()\n",
    "        \n",
    "\n",
    "        binwidth = 0.1\n",
    "        #bins = np.linspace(-20, 20, 100)\n",
    "        bins=np.arange(-6 , 6 + binwidth, binwidth)\n",
    "        kde_eg0pt1 = stats.gaussian_kde(df_for_num_steps_diff_eg0pt1)\n",
    "        kde_eg0pt3 = stats.gaussian_kde(df_for_num_steps_diff_eg0pt3)\n",
    "        kde_ts = stats.gaussian_kde(df_for_num_steps_diff_ts)\n",
    "        kde_unif = stats.gaussian_kde(df_for_num_steps_diff_unif)\n",
    "        ipdb.set_trace()                                      \n",
    "       # print(df_for_num_steps_diff_eg0pt1)\n",
    "   #     ax[i].hist(df_for_num_steps_diff_eg0pt1, normed = True, alpha = 0.5, label = \"Epsilon Greedy 0.1: mean = {} var = {}\".format(round(np.mean(df_for_num_steps_diff_eg0pt1),2), round(np.var(df_for_num_steps_diff_eg0pt1), 3)))\n",
    "    #    ax[i].plot(bins, kde_eg0pt1(bins), label = \"Epsilon Greedy 0.1: mean = {} var = {}\".format(round(np.mean(kde_eg0pt1(bins)),2), round(np.var(kde_eg0pt1(bins)), 3)))\n",
    "   #     ax[i].plot(bins, kde_eg0pt3(bins), label = \"Epsilon Greedy 0.3: mean = {} var = {}\".format(round(np.mean(kde_eg0pt3(bins)),2), round(np.var(kde_eg0pt3(bins)), 3)))\n",
    "        ax.plot(bins, kde_unif(bins), label = \"Uniform: mean = {} var = {}\".format(round(np.mean(kde_unif(bins)),2), round(np.var(kde_unif(bins)), 3)))\n",
    "        ax.plot(bins, kde_ts(bins), label = \"Thompson Sampling: mean = {} var = {}\".format(round(np.mean(kde_ts(bins)),2), round(np.var(kde_ts(bins)), 3)))\n",
    "\n",
    "        ax.hist(df_for_num_steps_diff_unif, normed = True, alpha = 0.5, bins = bins, label = \"Uniform: mean = {} var = {}\".format(round(np.mean(df_for_num_steps_diff_unif),2), round(np.var(df_for_num_steps_diff_unif), 3)))\n",
    "        ax.hist(df_for_num_steps_diff_ts, normed = True, alpha = 0.5, label = \"Thompson Sampling: mean = {} var = {}\".format(round(np.mean(df_for_num_steps_diff_ts),2), round(np.var(df_for_num_steps_diff_ts), 3)), bins = bins)\n",
    "       \n",
    "\n",
    "# ax[i].hist(df_for_num_steps_diff_eg0pt1, normed = False, alpha = 0.5, label = \"Epsilon Greedy 0.1: mean = {} var = {}\".format(round(np.mean(df_for_num_steps_diff_eg0pt1),2), round(np.var(df_for_num_steps_diff_eg0pt1), 3)))\n",
    "       # ax[i].hist(df_for_num_steps_diff_eg0pt3, normed = False, alpha = 0.5, label = \"Epsilon Greedy 0.3: mean = {} var = {}\".format(round(np.mean(df_for_num_steps_diff_eg0pt3),2), round(np.var(df_for_num_steps_diff_eg0pt3), 3)))\n",
    "\n",
    "        #ax[i].hist(df_for_num_steps_diff_ts, normed = False, alpha = 0.5, label = \"Thompson Sampling: mean = {} var = {}\".format(round(np.mean(df_for_num_steps_diff_ts),2), round(np.var(df_for_num_steps_diff_ts), 3)))\n",
    "\n",
    "        ax.set_xlabel(\"Wald statistic for number of participants = {} = {}\".format(size_vars[i], num_steps))\n",
    "        ax.legend()\n",
    "        ax.set_ylim(0, 1.0)\n",
    "        ax.set_xlim(-6,6)\n",
    "        ax.set_ylabel(\"Density\")\n",
    "        i +=1  \n",
    "    fig.suptitle(title)\n",
    "    #fig.tight_layout(rect=[0, 0.03, 1, 0.90])\n",
    "      # if not os.path.isdir(\"plots\"):\n",
    "      #    os.path.mkdir(\"plots\")\n",
    "    save_dir_ne = \"../simulation_analysis_saves/wald_KDE/NoEffect/\"\n",
    "    save_dir_e = \"../simulation_analysis_saves/wald_KDE/Effect/\"\n",
    "\n",
    "    save_str_ne = save_dir_ne + \"/{}.png\".format(title) \n",
    "    save_str_e = save_dir_e + \"/{}.png\".format(title) \n",
    "\n",
    "    Path(save_dir_ne).mkdir(parents=True, exist_ok=True)\n",
    "    Path(save_dir_e).mkdir(parents=True, exist_ok=True)\n",
    "\n",
    "    if \"No Effect\" in title:\n",
    "\t    print(\"saving to \", save_str_ne)\n",
    "\t    fig.savefig(save_str_ne)\n",
    "    elif \"With Effect\" in title:\n",
    "\t    print(\"saving to \", save_str_e)\n",
    "\t    fig.savefig(save_str_e)\n",
    "\n",
    "      #plt.show()\n",
    "    plt.clf()\n",
    "    plt.close()\n",
    "    "
   ]
  },
  {
   "cell_type": "code",
   "execution_count": 5,
   "metadata": {},
   "outputs": [
    {
     "data": {
      "text/plain": [
       "'/home/jacobnogas/Sofia_Villar_Fall_2019/RL4RLRevisions/simulation_analysis_scripts'"
      ]
     },
     "execution_count": 5,
     "metadata": {},
     "output_type": "execute_result"
    }
   ],
   "source": [
    "pwd"
   ]
  },
  {
   "cell_type": "code",
   "execution_count": null,
   "metadata": {},
   "outputs": [],
   "source": []
  }
 ],
 "metadata": {
  "kernelspec": {
   "display_name": "Python 3",
   "language": "python",
   "name": "python3"
  },
  "language_info": {
   "codemirror_mode": {
    "name": "ipython",
    "version": 3
   },
   "file_extension": ".py",
   "mimetype": "text/x-python",
   "name": "python",
   "nbconvert_exporter": "python",
   "pygments_lexer": "ipython3",
   "version": "3.6.8"
  }
 },
 "nbformat": 4,
 "nbformat_minor": 4
}
